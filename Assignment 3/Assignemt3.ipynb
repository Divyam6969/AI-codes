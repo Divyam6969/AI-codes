{
  "nbformat": 4,
  "nbformat_minor": 0,
  "metadata": {
    "colab": {
      "provenance": []
    },
    "kernelspec": {
      "name": "python3",
      "display_name": "Python 3"
    },
    "language_info": {
      "name": "python"
    }
  },
  "cells": [
    {
      "cell_type": "markdown",
      "source": [
        "# Assignment 3\n",
        "\n",
        "Necessary variables and imports"
      ],
      "metadata": {
        "id": "B1PYlJjDCgkE"
      }
    },
    {
      "cell_type": "code",
      "execution_count": 1,
      "metadata": {
        "id": "87T6BsGHCRLx"
      },
      "outputs": [],
      "source": [
        "import copy, heapq\n",
        "\n",
        "open = []\n",
        "close = []\n",
        "children = []\n",
        "\n",
        "def clear_lists():\n",
        "  open.clear()\n",
        "  close.clear()\n",
        "  children.clear()\n"
      ]
    },
    {
      "cell_type": "markdown",
      "source": [
        "Function for generating next states for questions 1, 2, 3 and 4"
      ],
      "metadata": {
        "id": "6lvA7B4LDJFx"
      }
    },
    {
      "cell_type": "code",
      "source": [
        "def generate_children(curr_state):\n",
        "    for i in range(3):\n",
        "        if len(curr_state[i]):\n",
        "            temp_copy = copy.deepcopy(curr_state)\n",
        "            current_elm = temp_copy[i].pop()\n",
        "            for j in range(3):\n",
        "                if j!=i:\n",
        "                    temp_next = copy.deepcopy(temp_copy)\n",
        "                    temp_next[j].append(current_elm)\n",
        "                    if temp_next not in open and temp_next not in close:\n",
        "                        children.append(temp_next)\n"
      ],
      "metadata": {
        "id": "8dn6UFEBDIqn"
      },
      "execution_count": 2,
      "outputs": []
    },
    {
      "cell_type": "markdown",
      "source": [
        "# Question 1"
      ],
      "metadata": {
        "id": "22wUK90hD06f"
      }
    },
    {
      "cell_type": "code",
      "source": [
        "initial_state = [['A'], ['B', 'C'], []]\n",
        "goal_state = [[], [], ['A', 'B', 'C']]\n",
        "\n",
        "open.append(initial_state)\n",
        "\n",
        "while len(open):\n",
        "    curr_state = open.pop()\n",
        "    close.append(curr_state)\n",
        "    \n",
        "    if curr_state==goal_state:\n",
        "        break\n",
        "    \n",
        "    generate_children(curr_state)\n",
        "    while len(children):\n",
        "        open.append(children.pop())\n",
        "\n",
        "print(close)\n"
      ],
      "metadata": {
        "colab": {
          "base_uri": "https://localhost:8080/"
        },
        "id": "dAqUcpFbD5wN",
        "outputId": "656aeb69-f76e-4a76-e340-83b82b6aad52"
      },
      "execution_count": 3,
      "outputs": [
        {
          "output_type": "stream",
          "name": "stdout",
          "text": [
            "[[['A'], ['B', 'C'], []], [[], ['B', 'C', 'A'], []], [[], ['B', 'C'], ['A']], [['C'], ['B'], ['A']], [['C', 'B'], [], ['A']], [['C', 'B', 'A'], [], []], [['C', 'B'], ['A'], []], [['C'], ['A', 'B'], []], [[], ['A', 'B', 'C'], []], [[], ['A', 'B'], ['C']], [['B'], ['A'], ['C']], [['B', 'A'], [], ['C']], [['B', 'A', 'C'], [], []], [['B', 'A'], ['C'], []], [['B'], ['C', 'A'], []], [[], ['C', 'A', 'B'], []], [[], ['C', 'A'], ['B']], [['A'], ['C'], ['B']], [['A', 'C'], [], ['B']], [['A', 'C', 'B'], [], []], [['A'], [], ['B', 'C']], [[], ['A'], ['B', 'C']], [[], ['A', 'C'], ['B']], [[], ['A', 'C', 'B'], []], [[], [], ['B', 'C', 'A']], [['A', 'B'], ['C'], []], [['A', 'B', 'C'], [], []], [['A', 'B'], [], ['C']], [['A'], [], ['C', 'B']], [[], [], ['C', 'B', 'A']], [['A'], ['C', 'B'], []], [[], ['C', 'B', 'A'], []], [[], ['C', 'B'], ['A']], [[], ['C'], ['A', 'B']], [[], [], ['A', 'B', 'C']]]\n"
          ]
        }
      ]
    },
    {
      "cell_type": "markdown",
      "source": [
        "# Question 2"
      ],
      "metadata": {
        "id": "xcZGwvI6D8Hq"
      }
    },
    {
      "cell_type": "code",
      "source": [
        "clear_lists()\n",
        "\n",
        "initial_state = [['A'], ['B', 'C'], []]\n",
        "goal_state = [[], [], ['A', 'B', 'C']]\n",
        "\n",
        "open.append(initial_state)\n",
        "\n",
        "while len(open):\n",
        "    curr_state = open.pop(0)\n",
        "    close.append(curr_state)\n",
        "    \n",
        "    if curr_state==goal_state:\n",
        "        close.append(goal_state)\n",
        "        break\n",
        "    \n",
        "    generate_children(curr_state)\n",
        "    \n",
        "    open.extend(children)\n",
        "    children.clear()\n",
        "\n",
        "print(close)"
      ],
      "metadata": {
        "colab": {
          "base_uri": "https://localhost:8080/"
        },
        "id": "Sn-Ni2jXEAVe",
        "outputId": "f8719e60-8568-4562-de0e-1598bedbc77c"
      },
      "execution_count": 4,
      "outputs": [
        {
          "output_type": "stream",
          "name": "stdout",
          "text": [
            "[[['A'], ['B', 'C'], []], [[], ['B', 'C', 'A'], []], [[], ['B', 'C'], ['A']], [['A', 'C'], ['B'], []], [['A'], ['B'], ['C']], [['C'], ['B'], ['A']], [[], ['B'], ['A', 'C']], [['A', 'C', 'B'], [], []], [['A', 'C'], [], ['B']], [[], ['B', 'A'], ['C']], [[], ['B'], ['C', 'A']], [['A', 'B'], [], ['C']], [['A'], [], ['C', 'B']], [['C', 'B'], [], ['A']], [['C'], [], ['A', 'B']], [['C', 'A'], ['B'], []], [['C'], ['B', 'A'], []], [['B'], [], ['A', 'C']], [[], [], ['A', 'C', 'B']], [['A'], ['C'], ['B']], [['A'], [], ['B', 'C']], [[], ['B', 'A', 'C'], []], [['B'], [], ['C', 'A']], [[], [], ['C', 'A', 'B']], [['A', 'B', 'C'], [], []], [['A', 'B'], ['C'], []], [[], ['A'], ['C', 'B']], [[], [], ['C', 'B', 'A']], [['C', 'B', 'A'], [], []], [['C', 'B'], ['A'], []], [[], ['C'], ['A', 'B']], [[], [], ['A', 'B', 'C']], [[], [], ['A', 'B', 'C']]]\n"
          ]
        }
      ]
    },
    {
      "cell_type": "markdown",
      "source": [
        "# Question 3"
      ],
      "metadata": {
        "id": "cemFti5eEA47"
      }
    },
    {
      "cell_type": "code",
      "source": [
        "clear_lists()\n",
        "\n",
        "initial_state = [['A'], ['B', 'C'], []]\n",
        "goal_state = [[], [], ['A', 'B', 'C']]\n",
        "\n",
        "depth_limit = 1\n",
        "curr_depth = 0\n",
        "\n",
        "open.append([initial_state, 0])\n",
        "\n",
        "while len(open):\n",
        "    curr_state, curr_depth = open.pop()\n",
        "    close.append(curr_state)\n",
        "    \n",
        "    if curr_depth>depth_limit:\n",
        "        continue\n",
        "    \n",
        "    if curr_state==goal_state:\n",
        "        close.append(goal_state)\n",
        "        break\n",
        "    \n",
        "    generate_children(curr_state)\n",
        "    while len(children):\n",
        "        open.append([children.pop(), curr_depth+1])\n",
        "\n",
        "if close[len(close)-1]==goal_state:\n",
        "    print('Goal State achieved')\n",
        "    print(close)\n",
        "else:\n",
        "    print('Incomplete for depth', depth_limit)\n"
      ],
      "metadata": {
        "colab": {
          "base_uri": "https://localhost:8080/"
        },
        "id": "tQavxetLEHM-",
        "outputId": "5d1804b3-cb16-4f47-d66c-7e3bef30a106"
      },
      "execution_count": 5,
      "outputs": [
        {
          "output_type": "stream",
          "name": "stdout",
          "text": [
            "Incomplete for depth 1\n"
          ]
        }
      ]
    },
    {
      "cell_type": "markdown",
      "source": [
        "# Question 4"
      ],
      "metadata": {
        "id": "gfgdGsr6ED2y"
      }
    },
    {
      "cell_type": "code",
      "source": [
        "clear_lists()\n",
        "\n",
        "initial_state = [['A'], ['B', 'C'], []]\n",
        "goal_state = [[], [], ['A', 'B', 'C']]\n",
        "\n",
        "depth_limit = 0\n",
        "curr_depth = 0\n",
        "\n",
        "goal_depth = -1\n",
        "\n",
        "open.append([initial_state, 0])\n",
        "\n",
        "while True:\n",
        "    while len(open):\n",
        "        curr_state, curr_depth = open.pop()\n",
        "        close.append(curr_state)\n",
        "        \n",
        "        if curr_state==goal_state:\n",
        "            close.append(goal_state)\n",
        "            break\n",
        "\n",
        "        if curr_depth==depth_limit:\n",
        "            continue\n",
        "        \n",
        "        generate_children(curr_state)\n",
        "        while len(children):\n",
        "            open.append([children.pop(), curr_depth+1])\n",
        "    \n",
        "    if close[-1]==goal_state:\n",
        "        goal_depth = depth_limit\n",
        "        break\n",
        "    else:\n",
        "        close.clear()\n",
        "        open = [[initial_state, 0]]\n",
        "        depth_limit += 1\n",
        "\n",
        "if goal_depth!=-1:\n",
        "    print('Goal Depth: ', goal_depth)\n",
        "else:\n",
        "    print('Goal not found', depth_limit)\n",
        "\n",
        "print(close)\n"
      ],
      "metadata": {
        "colab": {
          "base_uri": "https://localhost:8080/"
        },
        "id": "bMKHCDBDEJ0_",
        "outputId": "8d528534-80a8-4a1a-b422-b48b00ab78b0"
      },
      "execution_count": 6,
      "outputs": [
        {
          "output_type": "stream",
          "name": "stdout",
          "text": [
            "Goal Depth:  5\n",
            "[[['A'], ['B', 'C'], []], [[], ['B', 'C', 'A'], []], [[], ['B', 'C'], ['A']], [['C'], ['B'], ['A']], [[], ['B'], ['A', 'C']], [['B'], [], ['A', 'C']], [[], [], ['A', 'C', 'B']], [['C', 'B'], [], ['A']], [['C'], [], ['A', 'B']], [['C', 'B', 'A'], [], []], [['C', 'B'], ['A'], []], [['C'], [], ['A', 'B']], [[], ['C'], ['A', 'B']], [[], [], ['A', 'B', 'C']], [[], [], ['A', 'B', 'C']]]\n"
          ]
        }
      ]
    },
    {
      "cell_type": "markdown",
      "source": [
        "# Question 5"
      ],
      "metadata": {
        "id": "c4d2kNh2EOPo"
      }
    },
    {
      "cell_type": "code",
      "source": [
        "adjl = {\n",
        "    'A': [['S', 1], ['G', 10]],\n",
        "    'B': [['S', 5], ['G', 5]],\n",
        "    'C': [['S', 15], ['G', 5]],\n",
        "    'S': [['A', 1], ['B', 5], ['C', 15]],\n",
        "    'G': [['A', 10], ['B', 5], ['C', 5]]\n",
        "}\n",
        "\n",
        "dis = {\n",
        "    'A': [-1, [], False],\n",
        "    'B': [-1, [], False],\n",
        "    'C': [-1, [], False],\n",
        "    'S': [-1, [], False],\n",
        "    'G': [-1, [], False]\n",
        "}\n",
        "\n",
        "initial_state = input('Enter initial state: ')\n",
        "goal_state = input('Enter goal state: ')\n",
        "\n",
        "pq = [[0, initial_state]]\n",
        "\n",
        "dis[initial_state] = [0, [initial_state], False]\n",
        "\n",
        "heapq.heapify(pq)\n",
        "\n",
        "while len(pq):\n",
        "    path_cost, curr_state = heapq.heappop(pq)\n",
        "    dis[curr_state][2] = True\n",
        "\n",
        "    if curr_state==goal_state:\n",
        "        break\n",
        "\n",
        "    for v, cost in adjl[curr_state]:\n",
        "        if dis[v][2]:\n",
        "            continue\n",
        "        \n",
        "        if dis[v][0]==-1:\n",
        "            dis[v][0] = path_cost + cost\n",
        "            dis[v][1] = copy.deepcopy(dis[curr_state][1])\n",
        "            dis[v][1].append(v)\n",
        "            \n",
        "            heapq.heappush(pq, [dis[v][0], v])\n",
        "        \n",
        "        elif dis[v][0]>path_cost+cost:\n",
        "\n",
        "            pq.remove([dis[v][0], v])\n",
        "            \n",
        "            dis[v][0] = path_cost + cost\n",
        "            dis[v][1] = copy.deepcopy(dis[curr_state][1])\n",
        "            dis[v][1].append(v)\n",
        "            \n",
        "            pq.append([dis[v][0], v])\n",
        "            heapq.heapify(pq)\n",
        "\n",
        "print('Minimum Cost:', dis[goal_state][0])\n",
        "print('Path: ', dis[goal_state][1])\n"
      ],
      "metadata": {
        "colab": {
          "base_uri": "https://localhost:8080/"
        },
        "id": "Ov_jrLD6EQG-",
        "outputId": "ca9819ce-9664-424a-cdb1-6f060e5bc4a4"
      },
      "execution_count": 7,
      "outputs": [
        {
          "output_type": "stream",
          "name": "stdout",
          "text": [
            "Enter initial state: A\n",
            "Enter goal state: C\n",
            "Minimum Cost: 15\n",
            "Path:  ['A', 'G', 'C']\n"
          ]
        }
      ]
    }
  ]
}
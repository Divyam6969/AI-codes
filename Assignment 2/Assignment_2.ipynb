{
  "cells": [
    {
      "attachments": {},
      "cell_type": "markdown",
      "metadata": {
        "id": "4C158GXiTUlD"
      },
      "source": [
        "<center><u><b>Assignment 2</b></u></center>\n",
        "<h2><b> Name</b>-Divyam  <br> <b>Rollno</b>-102103142 <br> <b>Group</b>-2CO5 </h2>"
      ]
    },
    {
      "cell_type": "markdown",
      "metadata": {
        "id": "X3IpGjf33Xkx"
      },
      "source": [
        "##**Q1  Water Jug:**"
      ]
    },
    {
      "cell_type": "code",
      "execution_count": null,
      "metadata": {
        "colab": {
          "base_uri": "https://localhost:8080/"
        },
        "id": "cBkyv1FY3PXI",
        "outputId": "8119bed1-f6a4-468c-a55b-9c5bfebfab36"
      },
      "outputs": [
        {
          "name": "stdout",
          "output_type": "stream",
          "text": [
            "enter capacity of first jug: 4\n",
            "enter capacity of second jug: 3\n",
            "enter aim: 2\n",
            "(0, 0)\n",
            "(4, 0)\n",
            "(4, 3)\n",
            "(0, 3)\n",
            "(3, 0)\n",
            "(3, 3)\n",
            "(4, 2)\n",
            "(0, 2)\n",
            "(2, 0)\n"
          ]
        }
      ],
      "source": [
        "\n",
        "def water_jug(max_x,max_y,aim):\n",
        "  visited=[(0,0)]\n",
        "  x,y=0,0\n",
        "  while(True):\n",
        "    if(x==aim and y==0):\n",
        "      break\n",
        "\n",
        "    if(x<max_x and (max_x,y) not in visited):                   #fill 1st from pump\n",
        "      x=max_x\n",
        "      visited.append((x,y))\n",
        "    elif (y<max_y and (x,max_y) not in visited):                  #fill 2nd from pump\n",
        "      y=max_y\n",
        "      visited.append((x,y))\n",
        "    elif (x>0 and (0,y) not in visited):                  #empty first\n",
        "      x=0\n",
        "      visited.append((x,y))\n",
        "    elif (y>0 and (x,0) not in visited):                  #empty second\n",
        "      y=0\n",
        "      visited.append((x,y))\n",
        "    elif (x+y>=max_x and (max_x,y-(max_x-x)) not in visited):                 #transfer from second to first to completely fill first\n",
        "      y=y-(max_x-x)\n",
        "      x=max_x\n",
        "      visited.append((x,y))\n",
        "    elif (x+y>=max_y and (x-(max_y-y),max_y) not in visited):                 #transfer from first to second to completely fill second\n",
        "      x=x-(max_y-y)\n",
        "      y=max_y\n",
        "      visited.append((x,y))\n",
        "    elif (x+y <= max_x and (x+y,0) not in visited):               #empty second jug into first\n",
        "      x=x+y\n",
        "      y=0\n",
        "      visited.append((x,y))\n",
        "    elif (x+y <=max_y and (0,x+y) not in visited):                #empty first into second\n",
        "      y=x+y\n",
        "      x=0\n",
        "      visited.append((x,y))\n",
        "    \n",
        "  for i in visited:\n",
        "    print(i)\n",
        "\n",
        "\n",
        "\n",
        "max_x=int(input(\"enter capacity of first jug: \"))\n",
        "max_y=int(input('enter capacity of second jug: '))\n",
        "aim=int(input('enter aim: '))\n",
        "\n",
        "water_jug(max_x,max_y,aim)"
      ]
    },
    {
      "cell_type": "markdown",
      "metadata": {
        "id": "iOT4OrLWhJPN"
      },
      "source": [
        "## **Q2 split water**"
      ]
    },
    {
      "cell_type": "code",
      "execution_count": null,
      "metadata": {
        "colab": {
          "base_uri": "https://localhost:8080/"
        },
        "id": "RkUoKL0ThO-1",
        "outputId": "3c297fc7-32ca-475a-f539-82939c79d276"
      },
      "outputs": [
        {
          "name": "stdout",
          "output_type": "stream",
          "text": [
            "(12, 0, 0)\n",
            "(4, 8, 0)\n",
            "(4, 3, 5)\n",
            "(9, 3, 0)\n",
            "(9, 0, 3)\n",
            "(1, 8, 3)\n",
            "(1, 6, 5)\n",
            "(6, 6, 0)\n"
          ]
        }
      ],
      "source": [
        "def split_water(max_1,max_2,max_3,aim):\n",
        "\n",
        "  visited=[]\n",
        "  x,y,z=max_1,0,0\n",
        "  visited.append((x,y,z))\n",
        "\n",
        "  while(True):\n",
        "    if(x==aim and y==aim):     #goal state\n",
        "      break\n",
        "\n",
        "\n",
        "    if(x+y>max_2 and (x-(max_2-y),max_2,z) not in visited):#fill 2nd from 1st\n",
        "      x=x-(max_2-y)\n",
        "      y=max_2\n",
        "      visited.append((x,y,z))\n",
        "    elif(x>0 and x+y<=max_2 and (0,x+y,z) not in visited): #empty 1st into 2nd\n",
        "      y=x+y\n",
        "      x=0\n",
        "      visited.append((x,y,z))\n",
        "    \n",
        "    if(x==aim and y==aim):     #goal state\n",
        "      break\n",
        "\n",
        "    if (y+z>max_3 and (x,y-(max_3-z),max_3) not in visited):#fill 3rd from 2nd\n",
        "      y=y-(max_3-z)\n",
        "      z=max_3\n",
        "      visited.append((x,y,z))\n",
        "    \n",
        "    elif(y>0 and y+z<=max_3 and (x,0,y+z) not in visited):#empty 2nd into 3rd\n",
        "      z=z+y\n",
        "      y=0\n",
        "      visited.append((x,y,z))\n",
        "\n",
        "    if(x==aim and y==aim):     #goal state\n",
        "      break\n",
        "\n",
        "    if (x+z>max_1 and (max_1,y,z-(max_1-x)) not in visited):#fill 1st from 3rd\n",
        "      z=z-(max_1-x)\n",
        "      x=max_1\n",
        "      visited.append((x,y,z))\n",
        "\n",
        "    elif(z>0 and x+z<=max_1 and (z+x,y,0) not in visited):#empty 3rd into 1st\n",
        "      x=x+z\n",
        "      z=0\n",
        "      visited.append((x,y,z))\n",
        "\n",
        "\n",
        "\n",
        "  for i in visited:\n",
        "    print(i)\n",
        "\n",
        "\n",
        "#main\n",
        "split_water(12,8,5,6)\n"
      ]
    },
    {
      "cell_type": "markdown",
      "metadata": {
        "id": "agFW7D2asSln"
      },
      "source": [
        "##**Q3 8 puzzle problem**"
      ]
    },
    {
      "cell_type": "code",
      "execution_count": null,
      "metadata": {
        "colab": {
          "base_uri": "https://localhost:8080/"
        },
        "id": "rGmrc1cMsSCw",
        "outputId": "8c389220-a32f-42db-a35f-2fb759ad2011"
      },
      "outputs": [
        {
          "name": "stdout",
          "output_type": "stream",
          "text": [
            "path is: \n",
            "((1, 2, 3), (8, 0, 4), (7, 6, 5))\n",
            "((1, 0, 3), (8, 2, 4), (7, 6, 5))\n",
            "((0, 1, 3), (8, 2, 4), (7, 6, 5))\n",
            "((8, 1, 3), (0, 2, 4), (7, 6, 5))\n",
            "((8, 1, 3), (2, 0, 4), (7, 6, 5))\n",
            "((8, 1, 3), (2, 4, 0), (7, 6, 5))\n",
            "((8, 1, 0), (2, 4, 3), (7, 6, 5))\n",
            "((8, 0, 1), (2, 4, 3), (7, 6, 5))\n",
            "((0, 8, 1), (2, 4, 3), (7, 6, 5))\n",
            "((2, 8, 1), (0, 4, 3), (7, 6, 5))\n"
          ]
        }
      ],
      "source": [
        "from collections import deque\n",
        "import copy\n",
        "\n",
        "initial=[[1,2,3],[8,0,4],[7,6,5]]\n",
        "goal=[[2,8,1],[0,4,3],[7,6,5]]\n",
        "\n",
        "def find_blank(curr):\n",
        "    for i in range(3):\n",
        "        for j in range(3):\n",
        "            if(curr[i][j]==0):\n",
        "                return (i,j)\n",
        "    #return (0,0)\n",
        "            \n",
        "def to_tup(L):\n",
        "    tuples = []\n",
        "    for x in L:\n",
        "        tuples.append(tuple(x))\n",
        "    return tuple(tuples)\n",
        "def up(curr):\n",
        "  up=copy.deepcopy(curr)\n",
        "  row,col=find_blank(curr)\n",
        "  if(row>0):\n",
        "    up[row][col],up[row-1][col]=up[row-1][col],up[row][col];\n",
        "\n",
        "  return up;\n",
        "\n",
        "def down(curr):\n",
        "  down=copy.deepcopy(curr)\n",
        "  row,col=find_blank(curr)\n",
        "  if(row<2):\n",
        "    down[row][col],down[row+1][col]=down[row+1][col],down[row][col];\n",
        "  return down\n",
        "\n",
        "def left(curr):\n",
        "  left=copy.deepcopy(curr);\n",
        "  row,col=find_blank(curr)\n",
        "  if(col>0):\n",
        "    left[row][col],left[row][col-1]=left[row][col-1],left[row][col];\n",
        "  return left\n",
        "\n",
        "def right(curr):\n",
        "  right=copy.deepcopy(curr);\n",
        "  row,col=find_blank(curr)\n",
        "  if(col<2):\n",
        "    right[row][col],right[row][col+1]=right[row][col+1],right[row][col];\n",
        "  return right\n",
        "\n",
        "\n",
        "def puzzle_8(curr):\n",
        "    visited=[]\n",
        "    parent_dict={}\n",
        "\n",
        "    q=deque()\n",
        "    q.append(curr)\n",
        "    parent_dict={to_tup(curr):'phi'}\n",
        "\n",
        "    while (len(q)>0):\n",
        "      curr=q.popleft()\n",
        "      visited.append(curr)\n",
        "      if(curr==goal):\n",
        "        break;\n",
        "      (row,col)=find_blank(curr);\n",
        "      arr=[]\n",
        "\n",
        "      arr.append(up(curr))\n",
        "      arr.append(down(curr))\n",
        "      arr.append(left(curr))\n",
        "      arr.append(right(curr))\n",
        "\n",
        "\n",
        "\n",
        "      for i in arr:\n",
        "        if i not in visited and i not in q:\n",
        "          q.append(i)\n",
        "          parent_dict[to_tup(i)]=to_tup(curr)\n",
        "      \n",
        "    curr=to_tup(curr)\n",
        "    path=[]\n",
        "    while(curr in parent_dict):\n",
        "      path.append(curr)\n",
        "      curr=parent_dict[curr]\n",
        "  \n",
        "    print('path is: ')\n",
        "    path.reverse()\n",
        "    for i in path:\n",
        "      print(i)\n",
        "\n",
        "    \n",
        "#main\n",
        "puzzle_8(initial);"
      ]
    },
    {
      "cell_type": "markdown",
      "metadata": {
        "id": "U_CMFvPKTBUs"
      },
      "source": [
        "##**Q4 Travelling Salesman**"
      ]
    },
    {
      "cell_type": "code",
      "execution_count": null,
      "metadata": {
        "colab": {
          "base_uri": "https://localhost:8080/"
        },
        "id": "S5sOplkBZGIg",
        "outputId": "4a6ebd05-ec7b-4829-e59d-83f63d74bba0"
      },
      "outputs": [
        {
          "name": "stdout",
          "output_type": "stream",
          "text": [
            "enter start node: 1\n",
            "path is:  1-> 2-> 4-> 3-> 1\n",
            "cost is:  80\n"
          ]
        }
      ],
      "source": [
        "def create_graph():\n",
        "  # graph=[]\n",
        "  # n=int(input('enter no of vertices: '))\n",
        "  # for i in range(n+1):\n",
        "  #   graph.append([])\n",
        "  # choice='y'\n",
        "  # while(choice=='y'):\n",
        "  #   x,y,w = [int(x) for x in input(\"Enter edge and weight: \").split()]\n",
        "  #   graph[x].append([y,w])\n",
        "  #   graph[y].append([x,w])\n",
        "\n",
        "  #   choice=input('more edges? (y/n)')\n",
        "\n",
        "\n",
        "  graph=[]\n",
        "  for i in range(5):\n",
        "    graph.append([])\n",
        "\n",
        "  graph[1].append([2,10])\n",
        "  graph[2].append([1,10])\n",
        "  graph[1].append([3,15])\n",
        "  graph[3].append([1,15])\n",
        "  graph[1].append([4,20])\n",
        "  graph[4].append([1,20])\n",
        "\n",
        "  graph[2].append([3,35])\n",
        "  graph[3].append([2,35])\n",
        "  graph[2].append([4,25])\n",
        "  graph[4].append([2,25])\n",
        "  graph[3].append([4,30])\n",
        "  graph[4].append([3,30])\n",
        "\n",
        "  \n",
        "  return graph\n",
        "\n",
        "\n",
        "all_paths=[]\n",
        "def get_all_paths(graph,s,path,visited,weight,count):\n",
        "\n",
        "  if(count==4):\n",
        "    all_paths.append((path,weight))\n",
        "    return\n",
        "  \n",
        "  for i in graph[s]:\n",
        "    if i[0] not in visited:\n",
        "      get_all_paths(graph,i[0],path+[i[0]],visited+[i[0]],weight+i[1],count+1)\n",
        "\n",
        "def tsp(graph,s,n):\n",
        "  \n",
        "  cost=10**5\n",
        "  opt=[]\n",
        "  get_all_paths(graph,s,[],[],0,0)\n",
        "  \n",
        "  for i in all_paths:\n",
        "    path=i[0]\n",
        "    if(path[-1]==s and i[1]<cost):\n",
        "      opt=i[0]\n",
        "      cost=i[1]\n",
        "\n",
        "  print('path is: ',s,end='')\n",
        "  for i in opt:\n",
        "    print('->',i,end='')\n",
        "  print('\\ncost is: ',cost)\n",
        "\n",
        "#main\n",
        "graph=create_graph()\n",
        "x=int(input('enter start node: '));\n",
        "tsp(graph,x,4)\n",
        "\n",
        "\n"
      ]
    }
  ],
  "metadata": {
    "colab": {
      "provenance": []
    },
    "kernelspec": {
      "display_name": "Python 3",
      "name": "python3"
    },
    "language_info": {
      "name": "python"
    }
  },
  "nbformat": 4,
  "nbformat_minor": 0
}

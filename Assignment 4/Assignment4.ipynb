{
  "nbformat": 4,
  "nbformat_minor": 0,
  "metadata": {
    "colab": {
      "provenance": []
    },
    "kernelspec": {
      "name": "python3",
      "display_name": "Python 3"
    },
    "language_info": {
      "name": "python"
    }
  },
  "cells": [
    {
      "cell_type": "markdown",
      "source": [
        "# Assignment 4\n",
        "\n",
        "Necessary Imports and generate children functions"
      ],
      "metadata": {
        "id": "QR9L95468Uq1"
      }
    },
    {
      "cell_type": "code",
      "execution_count": 18,
      "metadata": {
        "id": "Wy5DltvXiJf7"
      },
      "outputs": [],
      "source": [
        "import heapq, copy\n",
        "\n",
        "def up(initial_state):\n",
        "  temp = copy.deepcopy(initial_state)\n",
        "  i0 = -1\n",
        "  j0 = -1\n",
        "  for i in range(3):\n",
        "    for j in range(3):\n",
        "      if temp[i][j]==200:\n",
        "        i0 = i\n",
        "        j0 = j \n",
        "        break\n",
        "  if i0>0:\n",
        "    temp[i0][j0] = temp[i0-1][j0]\n",
        "    temp[i0-1][j0] = 0\n",
        "    return temp\n",
        "  return []\n",
        "\n",
        "def down(initial_state):\n",
        "  temp = copy.deepcopy(initial_state)\n",
        "  i0 = -1\n",
        "  j0 = -1\n",
        "  for i in range(3):\n",
        "    for j in range(3):\n",
        "      if temp[i][j]==0:\n",
        "        i0 = i\n",
        "        j0 = j \n",
        "        break\n",
        "  if i0<2:\n",
        "    temp[i0][j0] = temp[i0+1][j0]\n",
        "    temp[i0+1][j0] = 0\n",
        "    return temp\n",
        "  return []\n",
        "\n",
        "def left(initial_state):\n",
        "  temp = copy.deepcopy(initial_state)\n",
        "  i0 = -1\n",
        "  j0 = -1\n",
        "  for i in range(3):\n",
        "    for j in range(3):\n",
        "      if temp[i][j]==0:\n",
        "        i0 = i\n",
        "        j0 = j \n",
        "        break\n",
        "  if j0>0:\n",
        "    temp[i0][j0] = temp[i0][j0-1]\n",
        "    temp[i0][j0-1] = 0\n",
        "    return temp\n",
        "  return []\n",
        "\n",
        "def right(initial_state):\n",
        "  temp = copy.deepcopy(initial_state)\n",
        "  i0 = -1\n",
        "  j0 = -1\n",
        "  for i in range(3):\n",
        "    for j in range(3):\n",
        "      if temp[i][j]==0:\n",
        "        i0 = i\n",
        "        j0 = j \n",
        "        break\n",
        "  if j0<2:\n",
        "    temp[i0][j0] = temp[i0][j0+1]\n",
        "    temp[i0][j0+1] = 0\n",
        "    return temp\n",
        "  return []\n"
      ]
    },
    {
      "cell_type": "markdown",
      "source": [
        "Question 1"
      ],
      "metadata": {
        "id": "dcccA7nU8jro"
      }
    },
    {
      "cell_type": "code",
      "source": [
        "open = []\n",
        "close = []\n",
        "\n",
        "initial_state = [[2, 0, 3], [1, 8, 4], [7, 6, 5]]\n",
        "goal_state = [[1, 2, 3], [8, 0, 4], [7, 6, 5]]\n",
        "\n",
        "def heuristic(curr_state):\n",
        "  val = 0\n",
        "  for i in range(3):\n",
        "    for j in range(3):\n",
        "      if curr_state[i][j]!=goal_state[i][j]:\n",
        "        val += 1\n",
        "  return val\n",
        "\n",
        "def enqueue(curr_state):\n",
        "  for item in [up(curr_state), down(curr_state), left(curr_state), right(curr_state)]:\n",
        "    if item==[]:\n",
        "      continue\n",
        "    h = heuristic(item)\n",
        "    if item not in close and [h, item] not in open:\n",
        "      heapq.heappush(open, [h, item])\n",
        "\n",
        "open.append([heuristic(initial_state), initial_state])\n",
        "heapq.heapify(open)\n",
        "\n",
        "while len(open):\n",
        "  curr_hval, curr_state = heapq.heappop(open)\n",
        "  close.append(curr_state)\n",
        "\n",
        "  if curr_state==goal_state:\n",
        "    break\n",
        "  \n",
        "  enqueue(curr_state)\n",
        "\n",
        "print(close)"
      ],
      "metadata": {
        "colab": {
          "base_uri": "https://localhost:8080/"
        },
        "id": "nrVa8gikspIZ",
        "outputId": "c82fcf08-9806-431b-afae-f45eebe6ff1a"
      },
      "execution_count": 19,
      "outputs": [
        {
          "output_type": "stream",
          "name": "stdout",
          "text": [
            "[[[2, 0, 3], [1, 8, 4], [7, 6, 5]], [[0, 2, 3], [1, 8, 4], [7, 6, 5]], [[1, 2, 3], [0, 8, 4], [7, 6, 5]], [[1, 2, 3], [8, 0, 4], [7, 6, 5]]]\n"
          ]
        }
      ]
    },
    {
      "cell_type": "markdown",
      "source": [
        "Question 2"
      ],
      "metadata": {
        "id": "CE2Cry-C8ntG"
      }
    },
    {
      "cell_type": "code",
      "source": [
        "open = []\n",
        "close = []\n",
        "\n",
        "initial_state = [[2, 8, 3], [1, 5, 4], [7, 6, 0]]\n",
        "goal_state = [[1, 2, 3], [8, 0, 4], [7, 6, 5]]\n",
        "\n",
        "def heuristic(curr_state):\n",
        "  val = 0\n",
        "  for i in range(3):\n",
        "    for j in range(3):\n",
        "      if curr_state[i][j]!=goal_state[i][j]:\n",
        "        val += 1\n",
        "  return val\n",
        "\n",
        "def enqueue(item):\n",
        "  for item in [up(curr_state), down(curr_state), left(curr_state), right(curr_state)]:\n",
        "    if item==[]:\n",
        "      continue\n",
        "    h = heuristic(item)\n",
        "    if item not in close and [h, item] not in open:\n",
        "      open.append([h, item])\n",
        "\n",
        "curr_state = initial_state\n",
        "curr_hval = heuristic(curr_state)\n",
        "\n",
        "while True:\n",
        "  if(curr_state==goal_state):\n",
        "    found = True\n",
        "    break\n",
        "\n",
        "  enqueue(curr_state)\n",
        "  min_hval_idx = 0\n",
        "  for i in range(1, len(open)):\n",
        "    if open[i][0]<open[min_hval_idx][0]:\n",
        "      min_hval_idx = i\n",
        "\n",
        "  if curr_hval>open[min_hval_idx][0]:\n",
        "    close.append(curr_state)\n",
        "    curr_hval, curr_state = open.pop(min_hval_idx)\n",
        "  else:\n",
        "    found = False\n",
        "    break\n",
        "  \n",
        "  open.clear()\n",
        "\n",
        "if found:\n",
        "  print('Solution found')\n",
        "  print(close)\n",
        "else:\n",
        "  print('Incomplete Algorithm')\n",
        "  "
      ],
      "metadata": {
        "colab": {
          "base_uri": "https://localhost:8080/"
        },
        "id": "NLoYgfbYsw63",
        "outputId": "8220927d-7c66-4a18-bee5-df1c336d12b1"
      },
      "execution_count": 20,
      "outputs": [
        {
          "output_type": "stream",
          "name": "stdout",
          "text": [
            "Incomplete Algorithm\n"
          ]
        }
      ]
    },
    {
      "cell_type": "markdown",
      "source": [
        "Question 3"
      ],
      "metadata": {
        "id": "UyxEEY6c8qXJ"
      }
    },
    {
      "cell_type": "code",
      "source": [
        "open = []\n",
        "close = []\n",
        "\n",
        "initial_state = [[2, 0, 3], [1, 8, 4], [7, 6, 5]]\n",
        "goal_state = [[1, 2, 3], [8, 0, 4], [7, 6, 5]]\n",
        "\n",
        "def heuristic(curr_state):\n",
        "  hval = 0\n",
        "  for i in range(3):\n",
        "    for j in range(3):\n",
        "      if curr_state[i][j]!=goal_state[i][j]:\n",
        "        hval += 1\n",
        "  return hval\n",
        "\n",
        "def propagateimprovement(curr_state, fn, parent_state):\n",
        "  gn = fn - heuristic(curr_state)\n",
        "  gm = gn + 1\n",
        "  for child in [up(curr_state), down(curr_state), left(curr_state), right(curr_state)]:\n",
        "    if child==[] or child==parent_state:\n",
        "      continue\n",
        "    fm = heuristic(child) + gm\n",
        "    found = False\n",
        "    for prev in open:\n",
        "      if prev[1]==child:\n",
        "        if prev[0]>fm:\n",
        "          prev[0] = fm\n",
        "          heapq.heapify(open)\n",
        "        found = True\n",
        "        break\n",
        "    if found:\n",
        "      break\n",
        "    for prev in close:\n",
        "      if prev[0]==child:\n",
        "        if prev[1]>fm:\n",
        "          prev[1] = fm\n",
        "          propagateimprovement(child, fm, curr_state)\n",
        "        found = True\n",
        "        break\n",
        "\n",
        "def enqueue(curr_state, fn, parent_state):\n",
        "  gn = fn - heuristic(curr_state)\n",
        "  gm = gn + 1\n",
        "  for child in [up(curr_state), down(curr_state), left(curr_state), right(curr_state)]:\n",
        "    if child==[] or child==parent_state:\n",
        "      continue\n",
        "    fm = heuristic(child) + gm\n",
        "    found = False\n",
        "    for prev in open:\n",
        "      if prev[1]==child:\n",
        "        if prev[0]>fm:\n",
        "          prev[0] = fm\n",
        "          heapq.heapify(open)\n",
        "        found = True\n",
        "        break\n",
        "    if found:\n",
        "      break\n",
        "    for prev in close:\n",
        "      if prev[0]==child:\n",
        "        if prev[1]>fm:\n",
        "          prev[1] = fm\n",
        "          propagateimprovement(child, fm, curr_state)\n",
        "        found = True\n",
        "        break\n",
        "    if found:\n",
        "      break\n",
        "    heapq.heappush(open, [fm, child, curr_state])\n",
        "\n",
        "open.append([heuristic(initial_state), initial_state, initial_state])\n",
        "heapq.heapify(open)\n",
        "\n",
        "while len(open):\n",
        "  fn, curr_state, parent_state = heapq.heappop(open)\n",
        "  if curr_state==goal_state:\n",
        "    close.append([curr_state, fn])\n",
        "    break\n",
        "  \n",
        "  enqueue(curr_state, fn, parent_state)\n",
        "  close.append([curr_state, fn])\n",
        "\n",
        "print(close)\n"
      ],
      "metadata": {
        "colab": {
          "base_uri": "https://localhost:8080/"
        },
        "id": "5mnCBvOY1w9K",
        "outputId": "9d630732-2dd7-49e7-c2ce-ab28fd28666d"
      },
      "execution_count": 21,
      "outputs": [
        {
          "output_type": "stream",
          "name": "stdout",
          "text": [
            "[[[[2, 0, 3], [1, 8, 4], [7, 6, 5]], 4], [[[0, 2, 3], [1, 8, 4], [7, 6, 5]], 4], [[[1, 2, 3], [0, 8, 4], [7, 6, 5]], 4], [[[1, 2, 3], [8, 0, 4], [7, 6, 5]], 3]]\n"
          ]
        }
      ]
    },
    {
      "cell_type": "markdown",
      "source": [
        "Question 4"
      ],
      "metadata": {
        "id": "5Hq-MII88ssd"
      }
    },
    {
      "cell_type": "code",
      "source": [
        "close = []\n",
        "\n",
        "adjl = {\n",
        "    'A': [['B', 'C'], ['D']],\n",
        "    'B': [['G'], ['H']],\n",
        "    'C': [],\n",
        "    'D': [['E', 'F']],\n",
        "    'E': [],\n",
        "    'F': []\n",
        "}\n",
        "\n",
        "h = {\n",
        "     'A': -1,\n",
        "     'B': 6,\n",
        "     'C': 12,\n",
        "     'D': 10,\n",
        "     'E': 4,\n",
        "     'F': 4,\n",
        "     'G': 5,\n",
        "     'H': 7\n",
        "}\n",
        "\n",
        "explored = {\n",
        "    'A': False,\n",
        "    'B': False,\n",
        "    'C': False,\n",
        "    'D': False,\n",
        "    'E': False,\n",
        "    'F': False,\n",
        "    'G': False,\n",
        "    'H': False\n",
        "}\n",
        "\n",
        "min_next = {\n",
        "    'A': [],\n",
        "    'B': [],\n",
        "    'C': [],\n",
        "    'D': [],\n",
        "    'E': [],\n",
        "    'F': [],\n",
        "    'G': [],\n",
        "    'H': []\n",
        "}\n",
        "\n",
        "def reset_explored():\n",
        "  for i in ['A', 'B', 'C', 'D', 'E', 'F', 'G', 'H']:\n",
        "    explored[i] = False\n",
        "\n",
        "def solve(curr_state):\n",
        "  open = []\n",
        "  for i in adjl[curr_state]:\n",
        "    cost = 0\n",
        "    for j in i:\n",
        "      cost += h[j] + 1\n",
        "    heapq.heappush(open, [cost, i])\n",
        "  if len(open)==0:\n",
        "    return\n",
        "  prev_cost = -1\n",
        "  while True:\n",
        "    next_cost, next_states = heapq.heappop(open)\n",
        "    if prev_cost==next_cost:\n",
        "      heapq.heappush(open, [next_cost, next_states])\n",
        "      break\n",
        "    temp_cost = 0\n",
        "    for state in next_states:\n",
        "      if not explored[state]:\n",
        "        solve(state)\n",
        "      temp_cost += h[state] + 1\n",
        "    heapq.heappush(open, [temp_cost, next_states])\n",
        "    prev_cost = next_cost\n",
        "  min_cost, min_child = heapq.heappop(open)\n",
        "  h[curr_state] = min_cost\n",
        "  min_next[curr_state] = min_child\n",
        "  reset_explored()\n",
        "\n",
        "solve('A')\n",
        "print(h)\n",
        "print(min_next)"
      ],
      "metadata": {
        "id": "fi8B14u8KJfp",
        "colab": {
          "base_uri": "https://localhost:8080/"
        },
        "outputId": "949cc2b0-e1db-48e6-9def-c6c4bda87ca0"
      },
      "execution_count": 22,
      "outputs": [
        {
          "output_type": "stream",
          "name": "stdout",
          "text": [
            "{'A': 11, 'B': 6, 'C': 12, 'D': 10, 'E': 4, 'F': 4, 'G': 5, 'H': 7}\n",
            "{'A': ['D'], 'B': [], 'C': [], 'D': ['E', 'F'], 'E': [], 'F': [], 'G': [], 'H': []}\n"
          ]
        }
      ]
    }
  ]
}